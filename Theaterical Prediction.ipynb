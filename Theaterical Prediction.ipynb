{
  "nbformat": 4,
  "nbformat_minor": 0,
  "metadata": {
    "colab": {
      "provenance": [],
      "authorship_tag": "ABX9TyNcDuNYT71uO2Qi61Xn6/jP",
      "include_colab_link": true
    },
    "kernelspec": {
      "name": "python3",
      "display_name": "Python 3"
    },
    "language_info": {
      "name": "python"
    }
  },
  "cells": [
    {
      "cell_type": "markdown",
      "metadata": {
        "id": "view-in-github",
        "colab_type": "text"
      },
      "source": [
        "<a href=\"https://colab.research.google.com/github/AkashB-13/NaanMudhalvan/blob/main/Theaterical%20Prediction.ipynb\" target=\"_parent\"><img src=\"https://colab.research.google.com/assets/colab-badge.svg\" alt=\"Open In Colab\"/></a>"
      ]
    },
    {
      "cell_type": "code",
      "execution_count": null,
      "metadata": {
        "colab": {
          "base_uri": "https://localhost:8080/"
        },
        "id": "gpLPzCKlpOHH",
        "outputId": "4b647af5-abde-459e-9ab3-c25ecfb52726"
      },
      "outputs": [
        {
          "output_type": "stream",
          "name": "stdout",
          "text": [
            "Enter the movie name (e.g., Movie 100) or type 'exit' to quit: Movie 100\n",
            "\n",
            "Movie Analysis:\n",
            "\n",
            "🎬 Actual Movie Details\n",
            "Director: Greta Gerwig\n",
            "Genre: Romance\n",
            "Main Actors: Tom Hanks, Chris Hemsworth\n",
            "Release Year: 1997\n",
            "Actual IMDb Rating: 5.7\n",
            "Actual Budget (USD M): 67.72\n",
            "Actual BoxOffice (USD M): 1637.41\n",
            "Actual User Sentiment Score: 0.88\n",
            "\n",
            "📈 Predicted Values by Model\n",
            "Predicted IMDb Rating: 5.37\n",
            "Predicted Budget (USD M): 169.08\n",
            "Predicted BoxOffice (USD M): 1005.84\n",
            "Predicted User Sentiment Score: 0.56\n",
            "Enter the movie name (e.g., Movie 100) or type 'exit' to quit: Movie100\n",
            "\n",
            "Movie Analysis:\n",
            "❌ Movie 'Movie100' not found in the dataset.\n"
          ]
        }
      ],
      "source": [
        "\n",
        "import pandas as pd\n",
        "from sklearn.linear_model import LinearRegression\n",
        "from sklearn.model_selection import train_test_split\n",
        "from sklearn.preprocessing import OneHotEncoder\n",
        "from sklearn.compose import ColumnTransformer\n",
        "from sklearn.pipeline import Pipeline\n",
        "\n",
        "# Load dataset\n",
        "movie_df = pd.read_csv(\"/content/movie_reviews_10000.csv\")\n",
        "\n",
        "# Define target and feature columns\n",
        "target_columns = [\"IMDb Rating\", \"Budget (USD M)\", \"BoxOffice (USD M)\", \"User Sentiment Score (0–1)\"]\n",
        "feature_columns = [\"Genre\", \"Director\", \"Main Actors\", \"Release Year\", \"RottenTomatoes (%)\", \"Award Nominations\"]\n",
        "\n",
        "# Prepare inputs and outputs\n",
        "X = movie_df[feature_columns]\n",
        "Y = movie_df[target_columns]\n",
        "\n",
        "# Define categorical features for one-hot encoding\n",
        "categorical_features = [\"Genre\", \"Director\", \"Main Actors\"]\n",
        "\n",
        "# Preprocessing and model pipeline\n",
        "preprocessor = ColumnTransformer(\n",
        "    transformers=[('cat', OneHotEncoder(handle_unknown='ignore'), categorical_features)],\n",
        "    remainder='passthrough'\n",
        ")\n",
        "\n",
        "reg_model = Pipeline(steps=[\n",
        "    ('preprocessor', preprocessor),\n",
        "    ('regressor', LinearRegression())\n",
        "])\n",
        "\n",
        "# Train/test split and model fitting\n",
        "X_train, X_test, Y_train, Y_test = train_test_split(X, Y, test_size=0.2, random_state=42)\n",
        "reg_model.fit(X_train, Y_train)\n",
        "\n",
        "# Function to fetch actual and predicted movie details\n",
        "def get_movie_analysis(movie_title):\n",
        "    movie = movie_df[movie_df[\"Movie Title\"] == movie_title]\n",
        "    if movie.empty:\n",
        "        return f\"❌ Movie '{movie_title}' not found in the dataset.\"\n",
        "\n",
        "    input_features = movie[feature_columns]\n",
        "    predictions = reg_model.predict(input_features)[0]\n",
        "\n",
        "    predicted_data = {\n",
        "        \"Predicted IMDb Rating\": round(predictions[0], 2),\n",
        "        \"Predicted Budget (USD M)\": round(predictions[1], 2),\n",
        "        \"Predicted BoxOffice (USD M)\": round(predictions[2], 2),\n",
        "        \"Predicted User Sentiment Score\": round(predictions[3], 2)\n",
        "    }\n",
        "\n",
        "    actual_info = {\n",
        "        \"Director\": movie[\"Director\"].values[0],\n",
        "        \"Genre\": movie[\"Genre\"].values[0],\n",
        "        \"Main Actors\": movie[\"Main Actors\"].values[0],\n",
        "        \"Release Year\": movie[\"Release Year\"].values[0],\n",
        "        \"Actual IMDb Rating\": movie[\"IMDb Rating\"].values[0],\n",
        "        \"Actual Budget (USD M)\": movie[\"Budget (USD M)\"].values[0],\n",
        "        \"Actual BoxOffice (USD M)\": movie[\"BoxOffice (USD M)\"].values[0],\n",
        "        \"Actual User Sentiment Score\": movie[\"User Sentiment Score (0–1)\"].values[0]\n",
        "    }\n",
        "\n",
        "    return {\n",
        "        \"🎬 Actual Movie Details\": actual_info,\n",
        "        \"📈 Predicted Values by Model\": predicted_data\n",
        "    }\n",
        "\n",
        "# Repeating prompt loop\n",
        "while True:\n",
        "    user_input = input(\"Enter the movie name (e.g., Movie 100) or type 'exit' to quit: \")\n",
        "\n",
        "    if user_input.lower() == 'exit':\n",
        "        print(\"✅ Exiting movie analysis tool. Goodbye!\")\n",
        "        break\n",
        "\n",
        "    result = get_movie_analysis(user_input)\n",
        "\n",
        "    print(\"\\nMovie Analysis:\")\n",
        "    if isinstance(result, dict):\n",
        "        for section, data in result.items():\n",
        "            print(f\"\\n{section}\")\n",
        "            for key, value in data.items():\n",
        "                print(f\"{key}: {value}\")\n",
        "    else:\n",
        "        print(result)"
      ]
    },
    {
      "cell_type": "code",
      "source": [],
      "metadata": {
        "id": "4hIQBwT-sIby"
      },
      "execution_count": null,
      "outputs": []
    }
  ]
}